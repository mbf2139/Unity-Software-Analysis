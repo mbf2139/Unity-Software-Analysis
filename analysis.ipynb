{
 "cells": [
  {
   "cell_type": "code",
   "execution_count": 1,
   "id": "84887530-0b02-437a-8f2c-fee25f2aef44",
   "metadata": {},
   "outputs": [
    {
     "data": {
      "text/plain": [
       "'Unity Software Analysis'"
      ]
     },
     "execution_count": 1,
     "metadata": {},
     "output_type": "execute_result"
    }
   ],
   "source": [
    "\"\"\"Unity Software Analysis\"\"\""
   ]
  },
  {
   "cell_type": "code",
   "execution_count": 2,
   "id": "b2b6fa35-ae5c-4b9f-8681-2a24e40f3726",
   "metadata": {},
   "outputs": [],
   "source": [
    "# Import dependencies \n",
    "import pandas as pd\n",
    "import numpy as np\n",
    "import seaborn as sns\n",
    "from pathlib import Path\n",
    "%matplotlib inline"
   ]
  },
  {
   "cell_type": "code",
   "execution_count": 3,
   "id": "456c327e-6d07-43b3-b7c3-158c89068305",
   "metadata": {},
   "outputs": [
    {
     "data": {
      "text/html": [
       "<div>\n",
       "<style scoped>\n",
       "    .dataframe tbody tr th:only-of-type {\n",
       "        vertical-align: middle;\n",
       "    }\n",
       "\n",
       "    .dataframe tbody tr th {\n",
       "        vertical-align: top;\n",
       "    }\n",
       "\n",
       "    .dataframe thead th {\n",
       "        text-align: right;\n",
       "    }\n",
       "</style>\n",
       "<table border=\"1\" class=\"dataframe\">\n",
       "  <thead>\n",
       "    <tr style=\"text-align: right;\">\n",
       "      <th></th>\n",
       "      <th>S&amp;P Close</th>\n",
       "    </tr>\n",
       "    <tr>\n",
       "      <th>Date</th>\n",
       "      <th></th>\n",
       "    </tr>\n",
       "  </thead>\n",
       "  <tbody>\n",
       "    <tr>\n",
       "      <th>2022-04-08</th>\n",
       "      <td>4,488.28</td>\n",
       "    </tr>\n",
       "    <tr>\n",
       "      <th>2022-04-07</th>\n",
       "      <td>4,500.21</td>\n",
       "    </tr>\n",
       "    <tr>\n",
       "      <th>2022-04-06</th>\n",
       "      <td>4,481.15</td>\n",
       "    </tr>\n",
       "    <tr>\n",
       "      <th>2022-04-05</th>\n",
       "      <td>4,525.12</td>\n",
       "    </tr>\n",
       "    <tr>\n",
       "      <th>2022-04-04</th>\n",
       "      <td>4,582.64</td>\n",
       "    </tr>\n",
       "  </tbody>\n",
       "</table>\n",
       "</div>"
      ],
      "text/plain": [
       "           S&P Close\n",
       "Date                \n",
       "2022-04-08  4,488.28\n",
       "2022-04-07  4,500.21\n",
       "2022-04-06  4,481.15\n",
       "2022-04-05  4,525.12\n",
       "2022-04-04  4,582.64"
      ]
     },
     "execution_count": 3,
     "metadata": {},
     "output_type": "execute_result"
    }
   ],
   "source": [
    "# Import s&p  data \n",
    "snp_df = pd.read_csv(\n",
    "    Path('resources/S&P.csv'),\n",
    "    index_col = \"Date\", \n",
    "    parse_dates=True, \n",
    "    infer_datetime_format=True)\n",
    "\n",
    "# Rename columns\n",
    "snp_df.rename(columns = {'Close':'S&P Close'}, inplace=True)\n",
    "\n",
    "# Drop High, Open and Low columns \n",
    "snp_df.drop(columns = {'Open','High', 'Low'}, inplace=True)\n",
    "\n",
    "# Display a preview of the data \n",
    "snp_df.head()"
   ]
  },
  {
   "cell_type": "code",
   "execution_count": 4,
   "id": "ef16c1b1-3109-4a24-803e-1aad37dff45a",
   "metadata": {},
   "outputs": [
    {
     "data": {
      "text/html": [
       "<div>\n",
       "<style scoped>\n",
       "    .dataframe tbody tr th:only-of-type {\n",
       "        vertical-align: middle;\n",
       "    }\n",
       "\n",
       "    .dataframe tbody tr th {\n",
       "        vertical-align: top;\n",
       "    }\n",
       "\n",
       "    .dataframe thead th {\n",
       "        text-align: right;\n",
       "    }\n",
       "</style>\n",
       "<table border=\"1\" class=\"dataframe\">\n",
       "  <thead>\n",
       "    <tr style=\"text-align: right;\">\n",
       "      <th></th>\n",
       "      <th>Unity Close</th>\n",
       "    </tr>\n",
       "    <tr>\n",
       "      <th>Date</th>\n",
       "      <th></th>\n",
       "    </tr>\n",
       "  </thead>\n",
       "  <tbody>\n",
       "    <tr>\n",
       "      <th>2020-09-18</th>\n",
       "      <td>68.349998</td>\n",
       "    </tr>\n",
       "    <tr>\n",
       "      <th>2020-09-21</th>\n",
       "      <td>72.959999</td>\n",
       "    </tr>\n",
       "    <tr>\n",
       "      <th>2020-09-22</th>\n",
       "      <td>84.820000</td>\n",
       "    </tr>\n",
       "    <tr>\n",
       "      <th>2020-09-23</th>\n",
       "      <td>81.849998</td>\n",
       "    </tr>\n",
       "    <tr>\n",
       "      <th>2020-09-24</th>\n",
       "      <td>83.199997</td>\n",
       "    </tr>\n",
       "  </tbody>\n",
       "</table>\n",
       "</div>"
      ],
      "text/plain": [
       "            Unity Close\n",
       "Date                   \n",
       "2020-09-18    68.349998\n",
       "2020-09-21    72.959999\n",
       "2020-09-22    84.820000\n",
       "2020-09-23    81.849998\n",
       "2020-09-24    83.199997"
      ]
     },
     "execution_count": 4,
     "metadata": {},
     "output_type": "execute_result"
    }
   ],
   "source": [
    "# Import Unity data \n",
    "u_df = pd.read_csv(\n",
    "    Path('resources/U.csv'),\n",
    "    index_col = 'Date', \n",
    "    parse_dates=True,\n",
    "    infer_datetime_format=True)\n",
    "\n",
    "# Drop all but the Close column\n",
    "u_df.drop(columns = {'Open', 'High', 'Low', 'Adj Close', 'Volume'}, inplace=True)\n",
    "\n",
    "# Rename columns\n",
    "u_df.rename(columns = {'Close':'Unity Close'}, inplace=True)\n",
    "\n",
    "\n",
    "# Display a preview of the data\n",
    "u_df.head()"
   ]
  },
  {
   "cell_type": "code",
   "execution_count": 5,
   "id": "0934d5f0-86e3-4ed0-b8fe-c77fd1ba3cd4",
   "metadata": {},
   "outputs": [
    {
     "data": {
      "text/html": [
       "<div>\n",
       "<style scoped>\n",
       "    .dataframe tbody tr th:only-of-type {\n",
       "        vertical-align: middle;\n",
       "    }\n",
       "\n",
       "    .dataframe tbody tr th {\n",
       "        vertical-align: top;\n",
       "    }\n",
       "\n",
       "    .dataframe thead th {\n",
       "        text-align: right;\n",
       "    }\n",
       "</style>\n",
       "<table border=\"1\" class=\"dataframe\">\n",
       "  <thead>\n",
       "    <tr style=\"text-align: right;\">\n",
       "      <th></th>\n",
       "      <th>Unity Close</th>\n",
       "      <th>S&amp;P Close</th>\n",
       "    </tr>\n",
       "    <tr>\n",
       "      <th>Date</th>\n",
       "      <th></th>\n",
       "      <th></th>\n",
       "    </tr>\n",
       "  </thead>\n",
       "  <tbody>\n",
       "    <tr>\n",
       "      <th>2021-04-08</th>\n",
       "      <td>98.940002</td>\n",
       "      <td>4,097.17</td>\n",
       "    </tr>\n",
       "    <tr>\n",
       "      <th>2021-04-09</th>\n",
       "      <td>97.260002</td>\n",
       "      <td>4,128.80</td>\n",
       "    </tr>\n",
       "    <tr>\n",
       "      <th>2021-04-12</th>\n",
       "      <td>98.000000</td>\n",
       "      <td>4,127.99</td>\n",
       "    </tr>\n",
       "    <tr>\n",
       "      <th>2021-04-13</th>\n",
       "      <td>101.570000</td>\n",
       "      <td>4,141.59</td>\n",
       "    </tr>\n",
       "    <tr>\n",
       "      <th>2021-04-14</th>\n",
       "      <td>101.120003</td>\n",
       "      <td>4,124.66</td>\n",
       "    </tr>\n",
       "  </tbody>\n",
       "</table>\n",
       "</div>"
      ],
      "text/plain": [
       "            Unity Close S&P Close\n",
       "Date                             \n",
       "2021-04-08    98.940002  4,097.17\n",
       "2021-04-09    97.260002  4,128.80\n",
       "2021-04-12    98.000000  4,127.99\n",
       "2021-04-13   101.570000  4,141.59\n",
       "2021-04-14   101.120003  4,124.66"
      ]
     },
     "execution_count": 5,
     "metadata": {},
     "output_type": "execute_result"
    }
   ],
   "source": [
    "# Concatenate the DFs\n",
    "df = pd.concat([u_df, snp_df], axis='columns', join='inner')\n",
    "\n",
    "# Preview the DataFrame\n",
    "df.head()\n"
   ]
  },
  {
   "cell_type": "code",
   "execution_count": 6,
   "id": "aadbc1ac-c193-44d2-b338-296093e26e69",
   "metadata": {},
   "outputs": [
    {
     "data": {
      "text/plain": [
       "Unity Close    0\n",
       "S&P Close      0\n",
       "dtype: int64"
      ]
     },
     "metadata": {},
     "output_type": "display_data"
    },
    {
     "data": {
      "text/plain": [
       "Unity Close    float64\n",
       "S&P Close       object\n",
       "dtype: object"
      ]
     },
     "metadata": {},
     "output_type": "display_data"
    },
    {
     "data": {
      "text/plain": [
       "Date\n",
       "2021-04-08    False\n",
       "2021-04-09    False\n",
       "2021-04-12    False\n",
       "2021-04-13    False\n",
       "2021-04-14    False\n",
       "              ...  \n",
       "2022-04-04    False\n",
       "2022-04-05    False\n",
       "2022-04-06    False\n",
       "2022-04-07    False\n",
       "2022-04-08    False\n",
       "Length: 255, dtype: bool"
      ]
     },
     "metadata": {},
     "output_type": "display_data"
    }
   ],
   "source": [
    "# Evaluate and clean the date\n",
    "display(df.isnull().sum())\n",
    "display(df.dtypes)\n",
    "display(df.duplicated())"
   ]
  },
  {
   "cell_type": "code",
   "execution_count": 7,
   "id": "f4d8bf8b-d2cf-48b9-a965-e523f0c9e200",
   "metadata": {},
   "outputs": [
    {
     "data": {
      "text/html": [
       "<div>\n",
       "<style scoped>\n",
       "    .dataframe tbody tr th:only-of-type {\n",
       "        vertical-align: middle;\n",
       "    }\n",
       "\n",
       "    .dataframe tbody tr th {\n",
       "        vertical-align: top;\n",
       "    }\n",
       "\n",
       "    .dataframe thead th {\n",
       "        text-align: right;\n",
       "    }\n",
       "</style>\n",
       "<table border=\"1\" class=\"dataframe\">\n",
       "  <thead>\n",
       "    <tr style=\"text-align: right;\">\n",
       "      <th></th>\n",
       "      <th>Unity Close</th>\n",
       "      <th>S&amp;P Close</th>\n",
       "    </tr>\n",
       "    <tr>\n",
       "      <th>Date</th>\n",
       "      <th></th>\n",
       "      <th></th>\n",
       "    </tr>\n",
       "  </thead>\n",
       "  <tbody>\n",
       "    <tr>\n",
       "      <th>2021-04-08</th>\n",
       "      <td>98.940002</td>\n",
       "      <td>4097.17</td>\n",
       "    </tr>\n",
       "    <tr>\n",
       "      <th>2021-04-09</th>\n",
       "      <td>97.260002</td>\n",
       "      <td>4128.80</td>\n",
       "    </tr>\n",
       "    <tr>\n",
       "      <th>2021-04-12</th>\n",
       "      <td>98.000000</td>\n",
       "      <td>4127.99</td>\n",
       "    </tr>\n",
       "    <tr>\n",
       "      <th>2021-04-13</th>\n",
       "      <td>101.570000</td>\n",
       "      <td>4141.59</td>\n",
       "    </tr>\n",
       "    <tr>\n",
       "      <th>2021-04-14</th>\n",
       "      <td>101.120003</td>\n",
       "      <td>4124.66</td>\n",
       "    </tr>\n",
       "  </tbody>\n",
       "</table>\n",
       "</div>"
      ],
      "text/plain": [
       "            Unity Close  S&P Close\n",
       "Date                              \n",
       "2021-04-08    98.940002    4097.17\n",
       "2021-04-09    97.260002    4128.80\n",
       "2021-04-12    98.000000    4127.99\n",
       "2021-04-13   101.570000    4141.59\n",
       "2021-04-14   101.120003    4124.66"
      ]
     },
     "execution_count": 7,
     "metadata": {},
     "output_type": "execute_result"
    }
   ],
   "source": [
    "# Convert S&P Close to a float\n",
    "df[\"S&P Close\"] = df[\"S&P Close\"].str.replace(\",\", \"\", regex=False)\n",
    "df['S&P Close'] = df['S&P Close'].astype('float')\n",
    "\n",
    "# preview the data\n",
    "df.head()"
   ]
  },
  {
   "cell_type": "code",
   "execution_count": 8,
   "id": "87ad4d95-21a5-4034-9503-ea0c29cbc0d4",
   "metadata": {},
   "outputs": [
    {
     "data": {
      "text/html": [
       "<div>\n",
       "<style scoped>\n",
       "    .dataframe tbody tr th:only-of-type {\n",
       "        vertical-align: middle;\n",
       "    }\n",
       "\n",
       "    .dataframe tbody tr th {\n",
       "        vertical-align: top;\n",
       "    }\n",
       "\n",
       "    .dataframe thead th {\n",
       "        text-align: right;\n",
       "    }\n",
       "</style>\n",
       "<table border=\"1\" class=\"dataframe\">\n",
       "  <thead>\n",
       "    <tr style=\"text-align: right;\">\n",
       "      <th></th>\n",
       "      <th>Unity Close</th>\n",
       "      <th>S&amp;P Close</th>\n",
       "    </tr>\n",
       "    <tr>\n",
       "      <th>Date</th>\n",
       "      <th></th>\n",
       "      <th></th>\n",
       "    </tr>\n",
       "  </thead>\n",
       "  <tbody>\n",
       "    <tr>\n",
       "      <th>2021-04-09</th>\n",
       "      <td>-0.016980</td>\n",
       "      <td>0.007720</td>\n",
       "    </tr>\n",
       "    <tr>\n",
       "      <th>2021-04-12</th>\n",
       "      <td>0.007608</td>\n",
       "      <td>-0.000196</td>\n",
       "    </tr>\n",
       "    <tr>\n",
       "      <th>2021-04-13</th>\n",
       "      <td>0.036429</td>\n",
       "      <td>0.003295</td>\n",
       "    </tr>\n",
       "    <tr>\n",
       "      <th>2021-04-14</th>\n",
       "      <td>-0.004430</td>\n",
       "      <td>-0.004088</td>\n",
       "    </tr>\n",
       "    <tr>\n",
       "      <th>2021-04-15</th>\n",
       "      <td>0.007911</td>\n",
       "      <td>0.011094</td>\n",
       "    </tr>\n",
       "  </tbody>\n",
       "</table>\n",
       "</div>"
      ],
      "text/plain": [
       "            Unity Close  S&P Close\n",
       "Date                              \n",
       "2021-04-09    -0.016980   0.007720\n",
       "2021-04-12     0.007608  -0.000196\n",
       "2021-04-13     0.036429   0.003295\n",
       "2021-04-14    -0.004430  -0.004088\n",
       "2021-04-15     0.007911   0.011094"
      ]
     },
     "execution_count": 8,
     "metadata": {},
     "output_type": "execute_result"
    }
   ],
   "source": [
    "# Calculate the daily returns \n",
    "daily_returns = df.pct_change().dropna()\n",
    "\n",
    "# Preview the data \n",
    "daily_returns.head()"
   ]
  },
  {
   "cell_type": "code",
   "execution_count": 9,
   "id": "da580552-b1fe-4fdf-a22c-36a664ffb98b",
   "metadata": {},
   "outputs": [
    {
     "data": {
      "text/html": [
       "<div>\n",
       "<style scoped>\n",
       "    .dataframe tbody tr th:only-of-type {\n",
       "        vertical-align: middle;\n",
       "    }\n",
       "\n",
       "    .dataframe tbody tr th {\n",
       "        vertical-align: top;\n",
       "    }\n",
       "\n",
       "    .dataframe thead th {\n",
       "        text-align: right;\n",
       "    }\n",
       "</style>\n",
       "<table border=\"1\" class=\"dataframe\">\n",
       "  <thead>\n",
       "    <tr style=\"text-align: right;\">\n",
       "      <th></th>\n",
       "      <th>Unity Close</th>\n",
       "      <th>S&amp;P Close</th>\n",
       "    </tr>\n",
       "  </thead>\n",
       "  <tbody>\n",
       "    <tr>\n",
       "      <th>count</th>\n",
       "      <td>254.000000</td>\n",
       "      <td>254.000000</td>\n",
       "    </tr>\n",
       "    <tr>\n",
       "      <th>mean</th>\n",
       "      <td>0.000466</td>\n",
       "      <td>0.000403</td>\n",
       "    </tr>\n",
       "    <tr>\n",
       "      <th>std</th>\n",
       "      <td>0.040488</td>\n",
       "      <td>0.009415</td>\n",
       "    </tr>\n",
       "    <tr>\n",
       "      <th>min</th>\n",
       "      <td>-0.120135</td>\n",
       "      <td>-0.029518</td>\n",
       "    </tr>\n",
       "    <tr>\n",
       "      <th>25%</th>\n",
       "      <td>-0.024199</td>\n",
       "      <td>-0.005204</td>\n",
       "    </tr>\n",
       "    <tr>\n",
       "      <th>50%</th>\n",
       "      <td>0.002300</td>\n",
       "      <td>0.000940</td>\n",
       "    </tr>\n",
       "    <tr>\n",
       "      <th>75%</th>\n",
       "      <td>0.021946</td>\n",
       "      <td>0.006439</td>\n",
       "    </tr>\n",
       "    <tr>\n",
       "      <th>max</th>\n",
       "      <td>0.174195</td>\n",
       "      <td>0.025698</td>\n",
       "    </tr>\n",
       "  </tbody>\n",
       "</table>\n",
       "</div>"
      ],
      "text/plain": [
       "       Unity Close   S&P Close\n",
       "count   254.000000  254.000000\n",
       "mean      0.000466    0.000403\n",
       "std       0.040488    0.009415\n",
       "min      -0.120135   -0.029518\n",
       "25%      -0.024199   -0.005204\n",
       "50%       0.002300    0.000940\n",
       "75%       0.021946    0.006439\n",
       "max       0.174195    0.025698"
      ]
     },
     "execution_count": 9,
     "metadata": {},
     "output_type": "execute_result"
    }
   ],
   "source": [
    "# View a data summary \n",
    "daily_returns.describe()"
   ]
  },
  {
   "cell_type": "code",
   "execution_count": 10,
   "id": "72da438b-42d8-450b-8374-a9b1aaace6f0",
   "metadata": {},
   "outputs": [
    {
     "name": "stdout",
     "output_type": "stream",
     "text": [
      "S&P Variance:  0.00008864\n"
     ]
    }
   ],
   "source": [
    "# Calculate the market variance \n",
    "market_variance = daily_returns['S&P Close'].var()\n",
    "print(f\"S&P Variance: {market_variance: .8f}\")"
   ]
  },
  {
   "cell_type": "code",
   "execution_count": 11,
   "id": "d122beb7-950e-41f3-9eb0-be7b8c194b5a",
   "metadata": {},
   "outputs": [
    {
     "name": "stdout",
     "output_type": "stream",
     "text": [
      "Unity Cov:  0.00019737\n"
     ]
    }
   ],
   "source": [
    "# calculate the covariance of U stock with the market \n",
    "u_cov = daily_returns['Unity Close'].cov(daily_returns['S&P Close'])\n",
    "print(f\"Unity Cov: {u_cov: .8f}\")"
   ]
  },
  {
   "cell_type": "code",
   "execution_count": 12,
   "id": "3783da0c-3779-4617-a95d-3f05ac74af31",
   "metadata": {},
   "outputs": [
    {
     "name": "stdout",
     "output_type": "stream",
     "text": [
      "Beta: 2.2266477411598413\n"
     ]
    }
   ],
   "source": [
    "# calculate Unity's beta \n",
    "u_beta = u_cov / market_variance \n",
    "print(f\"Beta: {u_beta}\")"
   ]
  },
  {
   "cell_type": "code",
   "execution_count": null,
   "id": "6eaff758-90de-439d-9691-37bbe0f250ac",
   "metadata": {},
   "outputs": [],
   "source": []
  }
 ],
 "metadata": {
  "kernelspec": {
   "display_name": "dev",
   "language": "python",
   "name": "dev"
  },
  "language_info": {
   "codemirror_mode": {
    "name": "ipython",
    "version": 3
   },
   "file_extension": ".py",
   "mimetype": "text/x-python",
   "name": "python",
   "nbconvert_exporter": "python",
   "pygments_lexer": "ipython3",
   "version": "3.7.11"
  }
 },
 "nbformat": 4,
 "nbformat_minor": 5
}
